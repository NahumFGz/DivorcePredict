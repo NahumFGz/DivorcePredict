{
 "cells": [
  {
   "cell_type": "code",
   "execution_count": 1,
   "metadata": {},
   "outputs": [],
   "source": [
    "import pandas as pd\n",
    "import numpy as np"
   ]
  },
  {
   "cell_type": "code",
   "execution_count": 2,
   "metadata": {},
   "outputs": [],
   "source": [
    "df = pd.read_csv('./datasets/divorce-3.csv')"
   ]
  },
  {
   "cell_type": "code",
   "execution_count": 6,
   "metadata": {
    "scrolled": false
   },
   "outputs": [
    {
     "data": {
      "text/plain": [
       "Atr32    0.739679\n",
       "Atr50    0.725443\n",
       "Atr31    0.699223\n",
       "Atr51    0.684143\n",
       "Atr49    0.674843\n",
       "Atr42    0.642307\n",
       "Atr48    0.633564\n",
       "Atr53    0.611422\n",
       "Atr47    0.582693\n",
       "Atr52    0.575463\n",
       "Atr45    0.510160\n",
       "Atr43    0.482223\n",
       "Atr7     0.427989\n",
       "Atr46    0.400296\n",
       "Atr6     0.287140\n",
       "Name: Atr1, dtype: float64"
      ]
     },
     "execution_count": 6,
     "metadata": {},
     "output_type": "execute_result"
    }
   ],
   "source": [
    "#declare independent and dependent variables\n",
    "y = df['Class']\n",
    "x1 = df.drop('Class', axis=1)\n",
    "#Check correlations between independent variables\n",
    "corr_measure = x1.corr(method='pearson', min_periods=1)\n",
    "#Sort values in descending order\n",
    "corr_measure.loc['Atr1', :].sort_values(ascending=False)\n",
    "#Read the bottom 10 Records\n",
    "sorted_df = corr_measure.loc['Atr1', :].sort_values(ascending=False)\n",
    "sorted_df.tail(15)"
   ]
  },
  {
   "cell_type": "code",
   "execution_count": 4,
   "metadata": {},
   "outputs": [
    {
     "data": {
      "text/plain": [
       "Atr53    0.497974\n",
       "Atr47    0.476960\n",
       "Atr43    0.438724\n",
       "Atr45    0.433951\n",
       "Atr7     0.401872\n",
       "Atr46    0.338469\n",
       "Atr6     0.282473\n",
       "Name: Atr1, dtype: float64"
      ]
     },
     "execution_count": 4,
     "metadata": {},
     "output_type": "execute_result"
    }
   ],
   "source": [
    "#Check correlations between independent variables\n",
    "corr_measure = x1.corr(method='kendall', min_periods=1)\n",
    "#Sort values in descending order\n",
    "corr_measure.loc['Atr1', :].sort_values(ascending=False)\n",
    "#Read the bottom 10 Records\n",
    "sorted_df = corr_measure.loc['Atr1', :].sort_values(ascending=False)\n",
    "sorted_df.tail(7)"
   ]
  },
  {
   "cell_type": "code",
   "execution_count": 5,
   "metadata": {},
   "outputs": [
    {
     "data": {
      "text/plain": [
       "Atr52    0.588943\n",
       "Atr47    0.568930\n",
       "Atr43    0.512671\n",
       "Atr45    0.501913\n",
       "Atr7     0.449839\n",
       "Atr46    0.403930\n",
       "Atr6     0.329791\n",
       "Name: Atr1, dtype: float64"
      ]
     },
     "execution_count": 5,
     "metadata": {},
     "output_type": "execute_result"
    }
   ],
   "source": [
    "#Check correlations between independent variables\n",
    "corr_measure = x1.corr(method='spearman', min_periods=1)\n",
    "#Sort values in descending order\n",
    "corr_measure.loc['Atr1', :].sort_values(ascending=False)\n",
    "#Read the bottom 10 Records\n",
    "sorted_df = corr_measure.loc['Atr1', :].sort_values(ascending=False)\n",
    "sorted_df.tail(7)"
   ]
  },
  {
   "cell_type": "code",
   "execution_count": null,
   "metadata": {},
   "outputs": [],
   "source": []
  }
 ],
 "metadata": {
  "kernelspec": {
   "display_name": "Python 3",
   "language": "python",
   "name": "python3"
  },
  "language_info": {
   "codemirror_mode": {
    "name": "ipython",
    "version": 3
   },
   "file_extension": ".py",
   "mimetype": "text/x-python",
   "name": "python",
   "nbconvert_exporter": "python",
   "pygments_lexer": "ipython3",
   "version": "3.7.6"
  }
 },
 "nbformat": 4,
 "nbformat_minor": 4
}
