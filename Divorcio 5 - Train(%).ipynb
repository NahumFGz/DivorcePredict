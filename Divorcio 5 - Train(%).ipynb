{
 "cells": [
  {
   "cell_type": "code",
   "execution_count": 1,
   "metadata": {},
   "outputs": [],
   "source": [
    "from sklearn.model_selection import train_test_split\n",
    "from sklearn.metrics import classification_report\n",
    "from sklearn import preprocessing\n",
    "from sklearn import preprocessing\n",
    "from scipy.io import arff\n",
    "import seaborn as sns\n",
    "import pandas as pd\n",
    "import numpy as np"
   ]
  },
  {
   "cell_type": "code",
   "execution_count": 2,
   "metadata": {},
   "outputs": [],
   "source": [
    "T_SIZE = 0.50"
   ]
  },
  {
   "cell_type": "code",
   "execution_count": 3,
   "metadata": {},
   "outputs": [],
   "source": [
    "df = pd.read_csv('../dataset/divorce.csv',sep=';')"
   ]
  },
  {
   "cell_type": "code",
   "execution_count": 4,
   "metadata": {},
   "outputs": [
    {
     "data": {
      "text/html": [
       "<div>\n",
       "<style scoped>\n",
       "    .dataframe tbody tr th:only-of-type {\n",
       "        vertical-align: middle;\n",
       "    }\n",
       "\n",
       "    .dataframe tbody tr th {\n",
       "        vertical-align: top;\n",
       "    }\n",
       "\n",
       "    .dataframe thead th {\n",
       "        text-align: right;\n",
       "    }\n",
       "</style>\n",
       "<table border=\"1\" class=\"dataframe\">\n",
       "  <thead>\n",
       "    <tr style=\"text-align: right;\">\n",
       "      <th></th>\n",
       "      <th>Atr1</th>\n",
       "      <th>Atr2</th>\n",
       "      <th>Atr3</th>\n",
       "      <th>Atr4</th>\n",
       "      <th>Atr5</th>\n",
       "      <th>Atr6</th>\n",
       "      <th>Atr7</th>\n",
       "      <th>Atr8</th>\n",
       "      <th>Atr9</th>\n",
       "      <th>Atr10</th>\n",
       "      <th>...</th>\n",
       "      <th>Atr46</th>\n",
       "      <th>Atr47</th>\n",
       "      <th>Atr48</th>\n",
       "      <th>Atr49</th>\n",
       "      <th>Atr50</th>\n",
       "      <th>Atr51</th>\n",
       "      <th>Atr52</th>\n",
       "      <th>Atr53</th>\n",
       "      <th>Atr54</th>\n",
       "      <th>Class</th>\n",
       "    </tr>\n",
       "  </thead>\n",
       "  <tbody>\n",
       "    <tr>\n",
       "      <th>0</th>\n",
       "      <td>2</td>\n",
       "      <td>2</td>\n",
       "      <td>4</td>\n",
       "      <td>1</td>\n",
       "      <td>0</td>\n",
       "      <td>0</td>\n",
       "      <td>0</td>\n",
       "      <td>0</td>\n",
       "      <td>0</td>\n",
       "      <td>0</td>\n",
       "      <td>...</td>\n",
       "      <td>2</td>\n",
       "      <td>1</td>\n",
       "      <td>3</td>\n",
       "      <td>3</td>\n",
       "      <td>3</td>\n",
       "      <td>2</td>\n",
       "      <td>3</td>\n",
       "      <td>2</td>\n",
       "      <td>1</td>\n",
       "      <td>1</td>\n",
       "    </tr>\n",
       "    <tr>\n",
       "      <th>1</th>\n",
       "      <td>4</td>\n",
       "      <td>4</td>\n",
       "      <td>4</td>\n",
       "      <td>4</td>\n",
       "      <td>4</td>\n",
       "      <td>0</td>\n",
       "      <td>0</td>\n",
       "      <td>4</td>\n",
       "      <td>4</td>\n",
       "      <td>4</td>\n",
       "      <td>...</td>\n",
       "      <td>2</td>\n",
       "      <td>2</td>\n",
       "      <td>3</td>\n",
       "      <td>4</td>\n",
       "      <td>4</td>\n",
       "      <td>4</td>\n",
       "      <td>4</td>\n",
       "      <td>2</td>\n",
       "      <td>2</td>\n",
       "      <td>1</td>\n",
       "    </tr>\n",
       "    <tr>\n",
       "      <th>2</th>\n",
       "      <td>2</td>\n",
       "      <td>2</td>\n",
       "      <td>2</td>\n",
       "      <td>2</td>\n",
       "      <td>1</td>\n",
       "      <td>3</td>\n",
       "      <td>2</td>\n",
       "      <td>1</td>\n",
       "      <td>1</td>\n",
       "      <td>2</td>\n",
       "      <td>...</td>\n",
       "      <td>3</td>\n",
       "      <td>2</td>\n",
       "      <td>3</td>\n",
       "      <td>1</td>\n",
       "      <td>1</td>\n",
       "      <td>1</td>\n",
       "      <td>2</td>\n",
       "      <td>2</td>\n",
       "      <td>2</td>\n",
       "      <td>1</td>\n",
       "    </tr>\n",
       "    <tr>\n",
       "      <th>3</th>\n",
       "      <td>3</td>\n",
       "      <td>2</td>\n",
       "      <td>3</td>\n",
       "      <td>2</td>\n",
       "      <td>3</td>\n",
       "      <td>3</td>\n",
       "      <td>3</td>\n",
       "      <td>3</td>\n",
       "      <td>3</td>\n",
       "      <td>3</td>\n",
       "      <td>...</td>\n",
       "      <td>2</td>\n",
       "      <td>2</td>\n",
       "      <td>3</td>\n",
       "      <td>3</td>\n",
       "      <td>3</td>\n",
       "      <td>3</td>\n",
       "      <td>2</td>\n",
       "      <td>2</td>\n",
       "      <td>2</td>\n",
       "      <td>1</td>\n",
       "    </tr>\n",
       "    <tr>\n",
       "      <th>4</th>\n",
       "      <td>2</td>\n",
       "      <td>2</td>\n",
       "      <td>1</td>\n",
       "      <td>1</td>\n",
       "      <td>1</td>\n",
       "      <td>1</td>\n",
       "      <td>0</td>\n",
       "      <td>0</td>\n",
       "      <td>0</td>\n",
       "      <td>0</td>\n",
       "      <td>...</td>\n",
       "      <td>2</td>\n",
       "      <td>1</td>\n",
       "      <td>2</td>\n",
       "      <td>3</td>\n",
       "      <td>2</td>\n",
       "      <td>2</td>\n",
       "      <td>2</td>\n",
       "      <td>1</td>\n",
       "      <td>0</td>\n",
       "      <td>1</td>\n",
       "    </tr>\n",
       "    <tr>\n",
       "      <th>...</th>\n",
       "      <td>...</td>\n",
       "      <td>...</td>\n",
       "      <td>...</td>\n",
       "      <td>...</td>\n",
       "      <td>...</td>\n",
       "      <td>...</td>\n",
       "      <td>...</td>\n",
       "      <td>...</td>\n",
       "      <td>...</td>\n",
       "      <td>...</td>\n",
       "      <td>...</td>\n",
       "      <td>...</td>\n",
       "      <td>...</td>\n",
       "      <td>...</td>\n",
       "      <td>...</td>\n",
       "      <td>...</td>\n",
       "      <td>...</td>\n",
       "      <td>...</td>\n",
       "      <td>...</td>\n",
       "      <td>...</td>\n",
       "      <td>...</td>\n",
       "    </tr>\n",
       "    <tr>\n",
       "      <th>165</th>\n",
       "      <td>0</td>\n",
       "      <td>0</td>\n",
       "      <td>0</td>\n",
       "      <td>0</td>\n",
       "      <td>0</td>\n",
       "      <td>0</td>\n",
       "      <td>0</td>\n",
       "      <td>0</td>\n",
       "      <td>0</td>\n",
       "      <td>0</td>\n",
       "      <td>...</td>\n",
       "      <td>1</td>\n",
       "      <td>0</td>\n",
       "      <td>4</td>\n",
       "      <td>1</td>\n",
       "      <td>1</td>\n",
       "      <td>4</td>\n",
       "      <td>2</td>\n",
       "      <td>2</td>\n",
       "      <td>2</td>\n",
       "      <td>0</td>\n",
       "    </tr>\n",
       "    <tr>\n",
       "      <th>166</th>\n",
       "      <td>0</td>\n",
       "      <td>0</td>\n",
       "      <td>0</td>\n",
       "      <td>0</td>\n",
       "      <td>0</td>\n",
       "      <td>0</td>\n",
       "      <td>0</td>\n",
       "      <td>0</td>\n",
       "      <td>0</td>\n",
       "      <td>0</td>\n",
       "      <td>...</td>\n",
       "      <td>4</td>\n",
       "      <td>1</td>\n",
       "      <td>2</td>\n",
       "      <td>2</td>\n",
       "      <td>2</td>\n",
       "      <td>2</td>\n",
       "      <td>3</td>\n",
       "      <td>2</td>\n",
       "      <td>2</td>\n",
       "      <td>0</td>\n",
       "    </tr>\n",
       "    <tr>\n",
       "      <th>167</th>\n",
       "      <td>1</td>\n",
       "      <td>1</td>\n",
       "      <td>0</td>\n",
       "      <td>0</td>\n",
       "      <td>0</td>\n",
       "      <td>0</td>\n",
       "      <td>0</td>\n",
       "      <td>0</td>\n",
       "      <td>0</td>\n",
       "      <td>1</td>\n",
       "      <td>...</td>\n",
       "      <td>3</td>\n",
       "      <td>0</td>\n",
       "      <td>2</td>\n",
       "      <td>0</td>\n",
       "      <td>1</td>\n",
       "      <td>1</td>\n",
       "      <td>3</td>\n",
       "      <td>0</td>\n",
       "      <td>0</td>\n",
       "      <td>0</td>\n",
       "    </tr>\n",
       "    <tr>\n",
       "      <th>168</th>\n",
       "      <td>0</td>\n",
       "      <td>0</td>\n",
       "      <td>0</td>\n",
       "      <td>0</td>\n",
       "      <td>0</td>\n",
       "      <td>0</td>\n",
       "      <td>0</td>\n",
       "      <td>0</td>\n",
       "      <td>0</td>\n",
       "      <td>0</td>\n",
       "      <td>...</td>\n",
       "      <td>3</td>\n",
       "      <td>3</td>\n",
       "      <td>2</td>\n",
       "      <td>2</td>\n",
       "      <td>3</td>\n",
       "      <td>2</td>\n",
       "      <td>4</td>\n",
       "      <td>3</td>\n",
       "      <td>1</td>\n",
       "      <td>0</td>\n",
       "    </tr>\n",
       "    <tr>\n",
       "      <th>169</th>\n",
       "      <td>0</td>\n",
       "      <td>0</td>\n",
       "      <td>0</td>\n",
       "      <td>0</td>\n",
       "      <td>0</td>\n",
       "      <td>0</td>\n",
       "      <td>0</td>\n",
       "      <td>1</td>\n",
       "      <td>0</td>\n",
       "      <td>0</td>\n",
       "      <td>...</td>\n",
       "      <td>3</td>\n",
       "      <td>4</td>\n",
       "      <td>4</td>\n",
       "      <td>0</td>\n",
       "      <td>1</td>\n",
       "      <td>3</td>\n",
       "      <td>3</td>\n",
       "      <td>3</td>\n",
       "      <td>1</td>\n",
       "      <td>0</td>\n",
       "    </tr>\n",
       "  </tbody>\n",
       "</table>\n",
       "<p>170 rows × 55 columns</p>\n",
       "</div>"
      ],
      "text/plain": [
       "     Atr1  Atr2  Atr3  Atr4  Atr5  Atr6  Atr7  Atr8  Atr9  Atr10  ...  Atr46  \\\n",
       "0       2     2     4     1     0     0     0     0     0      0  ...      2   \n",
       "1       4     4     4     4     4     0     0     4     4      4  ...      2   \n",
       "2       2     2     2     2     1     3     2     1     1      2  ...      3   \n",
       "3       3     2     3     2     3     3     3     3     3      3  ...      2   \n",
       "4       2     2     1     1     1     1     0     0     0      0  ...      2   \n",
       "..    ...   ...   ...   ...   ...   ...   ...   ...   ...    ...  ...    ...   \n",
       "165     0     0     0     0     0     0     0     0     0      0  ...      1   \n",
       "166     0     0     0     0     0     0     0     0     0      0  ...      4   \n",
       "167     1     1     0     0     0     0     0     0     0      1  ...      3   \n",
       "168     0     0     0     0     0     0     0     0     0      0  ...      3   \n",
       "169     0     0     0     0     0     0     0     1     0      0  ...      3   \n",
       "\n",
       "     Atr47  Atr48  Atr49  Atr50  Atr51  Atr52  Atr53  Atr54  Class  \n",
       "0        1      3      3      3      2      3      2      1      1  \n",
       "1        2      3      4      4      4      4      2      2      1  \n",
       "2        2      3      1      1      1      2      2      2      1  \n",
       "3        2      3      3      3      3      2      2      2      1  \n",
       "4        1      2      3      2      2      2      1      0      1  \n",
       "..     ...    ...    ...    ...    ...    ...    ...    ...    ...  \n",
       "165      0      4      1      1      4      2      2      2      0  \n",
       "166      1      2      2      2      2      3      2      2      0  \n",
       "167      0      2      0      1      1      3      0      0      0  \n",
       "168      3      2      2      3      2      4      3      1      0  \n",
       "169      4      4      0      1      3      3      3      1      0  \n",
       "\n",
       "[170 rows x 55 columns]"
      ]
     },
     "execution_count": 4,
     "metadata": {},
     "output_type": "execute_result"
    }
   ],
   "source": [
    "df"
   ]
  },
  {
   "cell_type": "code",
   "execution_count": 5,
   "metadata": {},
   "outputs": [],
   "source": [
    "df = df[['Atr52','Atr48','Atr43','Atr46','Atr7','Class']]\n",
    "df_col = df.columns"
   ]
  },
  {
   "cell_type": "code",
   "execution_count": 6,
   "metadata": {},
   "outputs": [
    {
     "data": {
      "text/html": [
       "<div>\n",
       "<style scoped>\n",
       "    .dataframe tbody tr th:only-of-type {\n",
       "        vertical-align: middle;\n",
       "    }\n",
       "\n",
       "    .dataframe tbody tr th {\n",
       "        vertical-align: top;\n",
       "    }\n",
       "\n",
       "    .dataframe thead th {\n",
       "        text-align: right;\n",
       "    }\n",
       "</style>\n",
       "<table border=\"1\" class=\"dataframe\">\n",
       "  <thead>\n",
       "    <tr style=\"text-align: right;\">\n",
       "      <th></th>\n",
       "      <th>Atr52</th>\n",
       "      <th>Atr48</th>\n",
       "      <th>Atr43</th>\n",
       "      <th>Atr46</th>\n",
       "      <th>Atr7</th>\n",
       "      <th>Class</th>\n",
       "    </tr>\n",
       "  </thead>\n",
       "  <tbody>\n",
       "    <tr>\n",
       "      <th>0</th>\n",
       "      <td>3</td>\n",
       "      <td>3</td>\n",
       "      <td>1</td>\n",
       "      <td>2</td>\n",
       "      <td>0</td>\n",
       "      <td>1</td>\n",
       "    </tr>\n",
       "    <tr>\n",
       "      <th>1</th>\n",
       "      <td>4</td>\n",
       "      <td>3</td>\n",
       "      <td>3</td>\n",
       "      <td>2</td>\n",
       "      <td>0</td>\n",
       "      <td>1</td>\n",
       "    </tr>\n",
       "    <tr>\n",
       "      <th>2</th>\n",
       "      <td>2</td>\n",
       "      <td>3</td>\n",
       "      <td>2</td>\n",
       "      <td>3</td>\n",
       "      <td>2</td>\n",
       "      <td>1</td>\n",
       "    </tr>\n",
       "    <tr>\n",
       "      <th>3</th>\n",
       "      <td>2</td>\n",
       "      <td>3</td>\n",
       "      <td>3</td>\n",
       "      <td>2</td>\n",
       "      <td>3</td>\n",
       "      <td>1</td>\n",
       "    </tr>\n",
       "    <tr>\n",
       "      <th>4</th>\n",
       "      <td>2</td>\n",
       "      <td>2</td>\n",
       "      <td>3</td>\n",
       "      <td>2</td>\n",
       "      <td>0</td>\n",
       "      <td>1</td>\n",
       "    </tr>\n",
       "    <tr>\n",
       "      <th>...</th>\n",
       "      <td>...</td>\n",
       "      <td>...</td>\n",
       "      <td>...</td>\n",
       "      <td>...</td>\n",
       "      <td>...</td>\n",
       "      <td>...</td>\n",
       "    </tr>\n",
       "    <tr>\n",
       "      <th>165</th>\n",
       "      <td>2</td>\n",
       "      <td>4</td>\n",
       "      <td>0</td>\n",
       "      <td>1</td>\n",
       "      <td>0</td>\n",
       "      <td>0</td>\n",
       "    </tr>\n",
       "    <tr>\n",
       "      <th>166</th>\n",
       "      <td>3</td>\n",
       "      <td>2</td>\n",
       "      <td>3</td>\n",
       "      <td>4</td>\n",
       "      <td>0</td>\n",
       "      <td>0</td>\n",
       "    </tr>\n",
       "    <tr>\n",
       "      <th>167</th>\n",
       "      <td>3</td>\n",
       "      <td>2</td>\n",
       "      <td>3</td>\n",
       "      <td>3</td>\n",
       "      <td>0</td>\n",
       "      <td>0</td>\n",
       "    </tr>\n",
       "    <tr>\n",
       "      <th>168</th>\n",
       "      <td>4</td>\n",
       "      <td>2</td>\n",
       "      <td>1</td>\n",
       "      <td>3</td>\n",
       "      <td>0</td>\n",
       "      <td>0</td>\n",
       "    </tr>\n",
       "    <tr>\n",
       "      <th>169</th>\n",
       "      <td>3</td>\n",
       "      <td>4</td>\n",
       "      <td>2</td>\n",
       "      <td>3</td>\n",
       "      <td>0</td>\n",
       "      <td>0</td>\n",
       "    </tr>\n",
       "  </tbody>\n",
       "</table>\n",
       "<p>170 rows × 6 columns</p>\n",
       "</div>"
      ],
      "text/plain": [
       "     Atr52  Atr48  Atr43  Atr46  Atr7  Class\n",
       "0        3      3      1      2     0      1\n",
       "1        4      3      3      2     0      1\n",
       "2        2      3      2      3     2      1\n",
       "3        2      3      3      2     3      1\n",
       "4        2      2      3      2     0      1\n",
       "..     ...    ...    ...    ...   ...    ...\n",
       "165      2      4      0      1     0      0\n",
       "166      3      2      3      4     0      0\n",
       "167      3      2      3      3     0      0\n",
       "168      4      2      1      3     0      0\n",
       "169      3      4      2      3     0      0\n",
       "\n",
       "[170 rows x 6 columns]"
      ]
     },
     "execution_count": 6,
     "metadata": {},
     "output_type": "execute_result"
    }
   ],
   "source": [
    "df"
   ]
  },
  {
   "cell_type": "markdown",
   "metadata": {},
   "source": [
    "### Preprocessing"
   ]
  },
  {
   "cell_type": "code",
   "execution_count": 7,
   "metadata": {},
   "outputs": [],
   "source": [
    "total = df.isnull().sum().sort_values(ascending=False)"
   ]
  },
  {
   "cell_type": "code",
   "execution_count": 8,
   "metadata": {},
   "outputs": [
    {
     "name": "stdout",
     "output_type": "stream",
     "text": [
      "[[3 3 1 2 0 1]\n",
      " [4 3 3 2 0 1]\n",
      " [2 3 2 3 2 1]\n",
      " ...\n",
      " [3 2 3 3 0 0]\n",
      " [4 2 1 3 0 0]\n",
      " [3 4 2 3 0 0]]\n"
     ]
    },
    {
     "data": {
      "text/html": [
       "<div>\n",
       "<style scoped>\n",
       "    .dataframe tbody tr th:only-of-type {\n",
       "        vertical-align: middle;\n",
       "    }\n",
       "\n",
       "    .dataframe tbody tr th {\n",
       "        vertical-align: top;\n",
       "    }\n",
       "\n",
       "    .dataframe thead th {\n",
       "        text-align: right;\n",
       "    }\n",
       "</style>\n",
       "<table border=\"1\" class=\"dataframe\">\n",
       "  <thead>\n",
       "    <tr style=\"text-align: right;\">\n",
       "      <th></th>\n",
       "      <th>Atr52</th>\n",
       "      <th>Atr48</th>\n",
       "      <th>Atr43</th>\n",
       "      <th>Atr46</th>\n",
       "      <th>Atr7</th>\n",
       "      <th>Class</th>\n",
       "    </tr>\n",
       "  </thead>\n",
       "  <tbody>\n",
       "    <tr>\n",
       "      <th>0</th>\n",
       "      <td>0.75</td>\n",
       "      <td>0.75</td>\n",
       "      <td>0.25</td>\n",
       "      <td>0.50</td>\n",
       "      <td>0.00</td>\n",
       "      <td>1.0</td>\n",
       "    </tr>\n",
       "    <tr>\n",
       "      <th>1</th>\n",
       "      <td>1.00</td>\n",
       "      <td>0.75</td>\n",
       "      <td>0.75</td>\n",
       "      <td>0.50</td>\n",
       "      <td>0.00</td>\n",
       "      <td>1.0</td>\n",
       "    </tr>\n",
       "    <tr>\n",
       "      <th>2</th>\n",
       "      <td>0.50</td>\n",
       "      <td>0.75</td>\n",
       "      <td>0.50</td>\n",
       "      <td>0.75</td>\n",
       "      <td>0.50</td>\n",
       "      <td>1.0</td>\n",
       "    </tr>\n",
       "    <tr>\n",
       "      <th>3</th>\n",
       "      <td>0.50</td>\n",
       "      <td>0.75</td>\n",
       "      <td>0.75</td>\n",
       "      <td>0.50</td>\n",
       "      <td>0.75</td>\n",
       "      <td>1.0</td>\n",
       "    </tr>\n",
       "    <tr>\n",
       "      <th>4</th>\n",
       "      <td>0.50</td>\n",
       "      <td>0.50</td>\n",
       "      <td>0.75</td>\n",
       "      <td>0.50</td>\n",
       "      <td>0.00</td>\n",
       "      <td>1.0</td>\n",
       "    </tr>\n",
       "    <tr>\n",
       "      <th>...</th>\n",
       "      <td>...</td>\n",
       "      <td>...</td>\n",
       "      <td>...</td>\n",
       "      <td>...</td>\n",
       "      <td>...</td>\n",
       "      <td>...</td>\n",
       "    </tr>\n",
       "    <tr>\n",
       "      <th>165</th>\n",
       "      <td>0.50</td>\n",
       "      <td>1.00</td>\n",
       "      <td>0.00</td>\n",
       "      <td>0.25</td>\n",
       "      <td>0.00</td>\n",
       "      <td>0.0</td>\n",
       "    </tr>\n",
       "    <tr>\n",
       "      <th>166</th>\n",
       "      <td>0.75</td>\n",
       "      <td>0.50</td>\n",
       "      <td>0.75</td>\n",
       "      <td>1.00</td>\n",
       "      <td>0.00</td>\n",
       "      <td>0.0</td>\n",
       "    </tr>\n",
       "    <tr>\n",
       "      <th>167</th>\n",
       "      <td>0.75</td>\n",
       "      <td>0.50</td>\n",
       "      <td>0.75</td>\n",
       "      <td>0.75</td>\n",
       "      <td>0.00</td>\n",
       "      <td>0.0</td>\n",
       "    </tr>\n",
       "    <tr>\n",
       "      <th>168</th>\n",
       "      <td>1.00</td>\n",
       "      <td>0.50</td>\n",
       "      <td>0.25</td>\n",
       "      <td>0.75</td>\n",
       "      <td>0.00</td>\n",
       "      <td>0.0</td>\n",
       "    </tr>\n",
       "    <tr>\n",
       "      <th>169</th>\n",
       "      <td>0.75</td>\n",
       "      <td>1.00</td>\n",
       "      <td>0.50</td>\n",
       "      <td>0.75</td>\n",
       "      <td>0.00</td>\n",
       "      <td>0.0</td>\n",
       "    </tr>\n",
       "  </tbody>\n",
       "</table>\n",
       "<p>170 rows × 6 columns</p>\n",
       "</div>"
      ],
      "text/plain": [
       "     Atr52  Atr48  Atr43  Atr46  Atr7  Class\n",
       "0     0.75   0.75   0.25   0.50  0.00    1.0\n",
       "1     1.00   0.75   0.75   0.50  0.00    1.0\n",
       "2     0.50   0.75   0.50   0.75  0.50    1.0\n",
       "3     0.50   0.75   0.75   0.50  0.75    1.0\n",
       "4     0.50   0.50   0.75   0.50  0.00    1.0\n",
       "..     ...    ...    ...    ...   ...    ...\n",
       "165   0.50   1.00   0.00   0.25  0.00    0.0\n",
       "166   0.75   0.50   0.75   1.00  0.00    0.0\n",
       "167   0.75   0.50   0.75   0.75  0.00    0.0\n",
       "168   1.00   0.50   0.25   0.75  0.00    0.0\n",
       "169   0.75   1.00   0.50   0.75  0.00    0.0\n",
       "\n",
       "[170 rows x 6 columns]"
      ]
     },
     "execution_count": 8,
     "metadata": {},
     "output_type": "execute_result"
    }
   ],
   "source": [
    "x = df.values #returns a numpy array\n",
    "print(x)\n",
    "min_max_scaler = preprocessing.MinMaxScaler()\n",
    "x_scaled = min_max_scaler.fit_transform(x)\n",
    "df = pd.DataFrame(x_scaled, columns = df_col)\n",
    "df"
   ]
  },
  {
   "cell_type": "markdown",
   "metadata": {},
   "source": [
    "### Selección de caracteristicas\n",
    "We can select the important features and observe how much a feature is effecting ourprediction.For this,we use the pearson correlation matrix."
   ]
  },
  {
   "cell_type": "code",
   "execution_count": 9,
   "metadata": {},
   "outputs": [
    {
     "data": {
      "text/plain": [
       "<AxesSubplot:>"
      ]
     },
     "execution_count": 9,
     "metadata": {},
     "output_type": "execute_result"
    },
    {
     "data": {
      "image/png": "[encoded data removed]",
      "text/plain": [
       "<Figure size 432x288 with 2 Axes>"
      ]
     },
     "metadata": {
      "needs_background": "light"
     },
     "output_type": "display_data"
    }
   ],
   "source": [
    "# load the R package ISLR\n",
    "# load the Auto dataset\n",
    "auto_df = df\n",
    "# calculate the correlation matrix\n",
    "corr = auto_df.corr()\n",
    "# plot the heatmap\n",
    "sns.heatmap(corr,xticklabels=corr.columns,yticklabels=corr.columns)"
   ]
  },
  {
   "cell_type": "markdown",
   "metadata": {},
   "source": [
    "### Los números más grandes significan más correlación, independientemente del signo."
   ]
  },
  {
   "cell_type": "code",
   "execution_count": 10,
   "metadata": {
    "scrolled": true
   },
   "outputs": [
    {
     "data": {
      "text/html": [
       "<div>\n",
       "<style scoped>\n",
       "    .dataframe tbody tr th:only-of-type {\n",
       "        vertical-align: middle;\n",
       "    }\n",
       "\n",
       "    .dataframe tbody tr th {\n",
       "        vertical-align: top;\n",
       "    }\n",
       "\n",
       "    .dataframe thead th {\n",
       "        text-align: right;\n",
       "    }\n",
       "</style>\n",
       "<table border=\"1\" class=\"dataframe\">\n",
       "  <thead>\n",
       "    <tr style=\"text-align: right;\">\n",
       "      <th></th>\n",
       "      <th>Atr52</th>\n",
       "      <th>Atr48</th>\n",
       "      <th>Atr43</th>\n",
       "      <th>Atr46</th>\n",
       "      <th>Atr7</th>\n",
       "      <th>Class</th>\n",
       "    </tr>\n",
       "  </thead>\n",
       "  <tbody>\n",
       "    <tr>\n",
       "      <th>Atr52</th>\n",
       "      <td>1.000000</td>\n",
       "      <td>0.513645</td>\n",
       "      <td>0.513790</td>\n",
       "      <td>0.550210</td>\n",
       "      <td>0.243104</td>\n",
       "      <td>0.651478</td>\n",
       "    </tr>\n",
       "    <tr>\n",
       "      <th>Atr48</th>\n",
       "      <td>0.513645</td>\n",
       "      <td>1.000000</td>\n",
       "      <td>0.409197</td>\n",
       "      <td>0.448773</td>\n",
       "      <td>0.311110</td>\n",
       "      <td>0.619830</td>\n",
       "    </tr>\n",
       "    <tr>\n",
       "      <th>Atr43</th>\n",
       "      <td>0.513790</td>\n",
       "      <td>0.409197</td>\n",
       "      <td>1.000000</td>\n",
       "      <td>0.561868</td>\n",
       "      <td>0.149930</td>\n",
       "      <td>0.566242</td>\n",
       "    </tr>\n",
       "    <tr>\n",
       "      <th>Atr46</th>\n",
       "      <td>0.550210</td>\n",
       "      <td>0.448773</td>\n",
       "      <td>0.561868</td>\n",
       "      <td>1.000000</td>\n",
       "      <td>0.069850</td>\n",
       "      <td>0.443465</td>\n",
       "    </tr>\n",
       "    <tr>\n",
       "      <th>Atr7</th>\n",
       "      <td>0.243104</td>\n",
       "      <td>0.311110</td>\n",
       "      <td>0.149930</td>\n",
       "      <td>0.069850</td>\n",
       "      <td>1.000000</td>\n",
       "      <td>0.544835</td>\n",
       "    </tr>\n",
       "    <tr>\n",
       "      <th>Class</th>\n",
       "      <td>0.651478</td>\n",
       "      <td>0.619830</td>\n",
       "      <td>0.566242</td>\n",
       "      <td>0.443465</td>\n",
       "      <td>0.544835</td>\n",
       "      <td>1.000000</td>\n",
       "    </tr>\n",
       "  </tbody>\n",
       "</table>\n",
       "</div>"
      ],
      "text/plain": [
       "          Atr52     Atr48     Atr43     Atr46      Atr7     Class\n",
       "Atr52  1.000000  0.513645  0.513790  0.550210  0.243104  0.651478\n",
       "Atr48  0.513645  1.000000  0.409197  0.448773  0.311110  0.619830\n",
       "Atr43  0.513790  0.409197  1.000000  0.561868  0.149930  0.566242\n",
       "Atr46  0.550210  0.448773  0.561868  1.000000  0.069850  0.443465\n",
       "Atr7   0.243104  0.311110  0.149930  0.069850  1.000000  0.544835\n",
       "Class  0.651478  0.619830  0.566242  0.443465  0.544835  1.000000"
      ]
     },
     "execution_count": 10,
     "metadata": {},
     "output_type": "execute_result"
    }
   ],
   "source": [
    "corr"
   ]
  },
  {
   "cell_type": "markdown",
   "metadata": {},
   "source": [
    "### Store the predicting class into another variable and drop it from the Table"
   ]
  },
  {
   "cell_type": "code",
   "execution_count": 11,
   "metadata": {},
   "outputs": [
    {
     "data": {
      "text/plain": [
       "(170, 5)"
      ]
     },
     "execution_count": 11,
     "metadata": {},
     "output_type": "execute_result"
    }
   ],
   "source": [
    "y= df['Class']\n",
    "X=df.drop('Class',axis=1)\n",
    "X.shape"
   ]
  },
  {
   "cell_type": "code",
   "execution_count": 12,
   "metadata": {},
   "outputs": [],
   "source": [
    "X_train, X_test, y_train, y_test = train_test_split(X,y, test_size=T_SIZE, random_state=77)\n",
    "y_true = y_test"
   ]
  },
  {
   "cell_type": "markdown",
   "metadata": {},
   "source": [
    "### Perceptron"
   ]
  },
  {
   "cell_type": "code",
   "execution_count": 13,
   "metadata": {},
   "outputs": [
    {
     "data": {
      "text/plain": [
       "Perceptron(tol=0.0001)"
      ]
     },
     "execution_count": 13,
     "metadata": {},
     "output_type": "execute_result"
    }
   ],
   "source": [
    "from sklearn.datasets import load_digits\n",
    "from sklearn.linear_model import Perceptron\n",
    "clf = Perceptron(tol=1e-4, random_state=0)\n",
    "clf.fit(X_train, y_train)"
   ]
  },
  {
   "cell_type": "code",
   "execution_count": 14,
   "metadata": {},
   "outputs": [
    {
     "name": "stdout",
     "output_type": "stream",
     "text": [
      "0.8941176470588236\n"
     ]
    }
   ],
   "source": [
    "r_perceptron = clf.score(X_test, y_test)\n",
    "print(r_perceptron)"
   ]
  },
  {
   "cell_type": "markdown",
   "metadata": {},
   "source": [
    "### Logistic Regression"
   ]
  },
  {
   "cell_type": "code",
   "execution_count": 15,
   "metadata": {},
   "outputs": [],
   "source": [
    "from sklearn.datasets import load_iris\n",
    "from sklearn.linear_model import LogisticRegression\n",
    "#X, y = load_iris(return_X_y=True)\n",
    "clf = LogisticRegression(random_state=0, solver='lbfgs').fit(X_train, y_train)"
   ]
  },
  {
   "cell_type": "code",
   "execution_count": 16,
   "metadata": {},
   "outputs": [],
   "source": [
    "r_logisticRegre = clf.score(X_test, y_test)"
   ]
  },
  {
   "cell_type": "markdown",
   "metadata": {},
   "source": [
    "### Neural Networks"
   ]
  },
  {
   "cell_type": "code",
   "execution_count": 17,
   "metadata": {},
   "outputs": [],
   "source": [
    "#!pip install tensorflow\n",
    "import tensorflow.keras\n",
    "import tensorflow.keras\n",
    "#from tensorflow.keras.datasets import mnist\n",
    "from tensorflow.keras.models import Sequential,model_from_json\n",
    "from tensorflow.keras.layers import Dense\n",
    "from tensorflow.keras.optimizers import RMSprop"
   ]
  },
  {
   "cell_type": "code",
   "execution_count": 18,
   "metadata": {},
   "outputs": [
    {
     "name": "stdout",
     "output_type": "stream",
     "text": [
      "Model: \"sequential\"\n",
      "_________________________________________________________________\n",
      "Layer (type)                 Output Shape              Param #   \n",
      "=================================================================\n",
      "dense (Dense)                (None, 54)                324       \n",
      "_________________________________________________________________\n",
      "dense_1 (Dense)              (None, 128)               7040      \n",
      "_________________________________________________________________\n",
      "dense_2 (Dense)              (None, 64)                8256      \n",
      "_________________________________________________________________\n",
      "dense_3 (Dense)              (None, 32)                2080      \n",
      "_________________________________________________________________\n",
      "dense_4 (Dense)              (None, 16)                528       \n",
      "_________________________________________________________________\n",
      "dense_5 (Dense)              (None, 1)                 17        \n",
      "=================================================================\n",
      "Total params: 18,245\n",
      "Trainable params: 18,245\n",
      "Non-trainable params: 0\n",
      "_________________________________________________________________\n"
     ]
    }
   ],
   "source": [
    "model = Sequential()\n",
    "model.add(Dense(54, activation='sigmoid', input_shape=(5,)))\n",
    "model.add(Dense(128, activation='sigmoid'))\n",
    "model.add(Dense(64, activation='sigmoid'))\n",
    "model.add(Dense(32, activation='sigmoid'))\n",
    "model.add(Dense(16, activation='sigmoid'))\n",
    "model.add(Dense(1, activation='sigmoid'))\n",
    "model.summary()"
   ]
  },
  {
   "cell_type": "code",
   "execution_count": 19,
   "metadata": {
    "scrolled": true
   },
   "outputs": [
    {
     "name": "stdout",
     "output_type": "stream",
     "text": [
      "Epoch 1/50\n",
      "11/11 [==============================] - 0s 2ms/step - loss: 0.7036 - accuracy: 0.4588\n",
      "Epoch 2/50\n",
      "11/11 [==============================] - 0s 2ms/step - loss: 0.6955 - accuracy: 0.4824\n",
      "Epoch 3/50\n",
      "11/11 [==============================] - 0s 2ms/step - loss: 0.6979 - accuracy: 0.4118\n",
      "Epoch 4/50\n",
      "11/11 [==============================] - 0s 2ms/step - loss: 0.6958 - accuracy: 0.4588\n",
      "Epoch 5/50\n",
      "11/11 [==============================] - 0s 2ms/step - loss: 0.6944 - accuracy: 0.4824\n",
      "Epoch 6/50\n",
      "11/11 [==============================] - 0s 2ms/step - loss: 0.6950 - accuracy: 0.5294\n",
      "Epoch 7/50\n",
      "11/11 [==============================] - 0s 2ms/step - loss: 0.6949 - accuracy: 0.5294\n",
      "Epoch 8/50\n",
      "11/11 [==============================] - 0s 2ms/step - loss: 0.6970 - accuracy: 0.4588\n",
      "Epoch 9/50\n",
      "11/11 [==============================] - 0s 2ms/step - loss: 0.6941 - accuracy: 0.5294\n",
      "Epoch 10/50\n",
      "11/11 [==============================] - 0s 3ms/step - loss: 0.6930 - accuracy: 0.5294\n",
      "Epoch 11/50\n",
      "11/11 [==============================] - 0s 2ms/step - loss: 0.6945 - accuracy: 0.5294\n",
      "Epoch 12/50\n",
      "11/11 [==============================] - 0s 2ms/step - loss: 0.6948 - accuracy: 0.5294\n",
      "Epoch 13/50\n",
      "11/11 [==============================] - 0s 2ms/step - loss: 0.6926 - accuracy: 0.5294\n",
      "Epoch 14/50\n",
      "11/11 [==============================] - 0s 2ms/step - loss: 0.6952 - accuracy: 0.5294\n",
      "Epoch 15/50\n",
      "11/11 [==============================] - 0s 2ms/step - loss: 0.6922 - accuracy: 0.5294\n",
      "Epoch 16/50\n",
      "11/11 [==============================] - 0s 2ms/step - loss: 0.6954 - accuracy: 0.5294\n",
      "Epoch 17/50\n",
      "11/11 [==============================] - 0s 2ms/step - loss: 0.6917 - accuracy: 0.5529\n",
      "Epoch 18/50\n",
      "11/11 [==============================] - 0s 2ms/step - loss: 0.6916 - accuracy: 0.5294\n",
      "Epoch 19/50\n",
      "11/11 [==============================] - 0s 2ms/step - loss: 0.6906 - accuracy: 0.5294\n",
      "Epoch 20/50\n",
      "11/11 [==============================] - 0s 2ms/step - loss: 0.6901 - accuracy: 0.5294\n",
      "Epoch 21/50\n",
      "11/11 [==============================] - 0s 1ms/step - loss: 0.6912 - accuracy: 0.5176\n",
      "Epoch 22/50\n",
      "11/11 [==============================] - 0s 2ms/step - loss: 0.6884 - accuracy: 0.5294\n",
      "Epoch 23/50\n",
      "11/11 [==============================] - 0s 2ms/step - loss: 0.6901 - accuracy: 0.5294\n",
      "Epoch 24/50\n",
      "11/11 [==============================] - 0s 2ms/step - loss: 0.6879 - accuracy: 0.5294\n",
      "Epoch 25/50\n",
      "11/11 [==============================] - 0s 2ms/step - loss: 0.6826 - accuracy: 0.5647\n",
      "Epoch 26/50\n",
      "11/11 [==============================] - 0s 2ms/step - loss: 0.6815 - accuracy: 0.5294\n",
      "Epoch 27/50\n",
      "11/11 [==============================] - 0s 2ms/step - loss: 0.6807 - accuracy: 0.6118\n",
      "Epoch 28/50\n",
      "11/11 [==============================] - 0s 2ms/step - loss: 0.6738 - accuracy: 0.6471\n",
      "Epoch 29/50\n",
      "11/11 [==============================] - 0s 2ms/step - loss: 0.6757 - accuracy: 0.5412\n",
      "Epoch 30/50\n",
      "11/11 [==============================] - 0s 2ms/step - loss: 0.6626 - accuracy: 0.6118\n",
      "Epoch 31/50\n",
      "11/11 [==============================] - 0s 2ms/step - loss: 0.6567 - accuracy: 0.7882\n",
      "Epoch 32/50\n",
      "11/11 [==============================] - 0s 2ms/step - loss: 0.6488 - accuracy: 0.6824\n",
      "Epoch 33/50\n",
      "11/11 [==============================] - 0s 2ms/step - loss: 0.6375 - accuracy: 0.6941\n",
      "Epoch 34/50\n",
      "11/11 [==============================] - 0s 2ms/step - loss: 0.6277 - accuracy: 0.7765\n",
      "Epoch 35/50\n",
      "11/11 [==============================] - 0s 2ms/step - loss: 0.6134 - accuracy: 0.8588\n",
      "Epoch 36/50\n",
      "11/11 [==============================] - 0s 2ms/step - loss: 0.5886 - accuracy: 0.9176\n",
      "Epoch 37/50\n",
      "11/11 [==============================] - 0s 2ms/step - loss: 0.5721 - accuracy: 0.8588\n",
      "Epoch 38/50\n",
      "11/11 [==============================] - 0s 2ms/step - loss: 0.5458 - accuracy: 0.8471\n",
      "Epoch 39/50\n",
      "11/11 [==============================] - 0s 2ms/step - loss: 0.5180 - accuracy: 0.8706\n",
      "Epoch 40/50\n",
      "11/11 [==============================] - 0s 2ms/step - loss: 0.4915 - accuracy: 0.8824\n",
      "Epoch 41/50\n",
      "11/11 [==============================] - 0s 2ms/step - loss: 0.4591 - accuracy: 0.9294\n",
      "Epoch 42/50\n",
      "11/11 [==============================] - 0s 2ms/step - loss: 0.4267 - accuracy: 0.9294\n",
      "Epoch 43/50\n",
      "11/11 [==============================] - 0s 1ms/step - loss: 0.3997 - accuracy: 0.9412\n",
      "Epoch 44/50\n",
      "11/11 [==============================] - 0s 2ms/step - loss: 0.3739 - accuracy: 0.9059\n",
      "Epoch 45/50\n",
      "11/11 [==============================] - 0s 2ms/step - loss: 0.3486 - accuracy: 0.9059\n",
      "Epoch 46/50\n",
      "11/11 [==============================] - 0s 2ms/step - loss: 0.3219 - accuracy: 0.9294\n",
      "Epoch 47/50\n",
      "11/11 [==============================] - 0s 2ms/step - loss: 0.3075 - accuracy: 0.9294\n",
      "Epoch 48/50\n",
      "11/11 [==============================] - 0s 2ms/step - loss: 0.2889 - accuracy: 0.9412\n",
      "Epoch 49/50\n",
      "11/11 [==============================] - 0s 2ms/step - loss: 0.2744 - accuracy: 0.9059\n",
      "Epoch 50/50\n",
      "11/11 [==============================] - 0s 2ms/step - loss: 0.2541 - accuracy: 0.9412\n"
     ]
    },
    {
     "data": {
      "text/plain": [
       "<tensorflow.python.keras.callbacks.History at 0x2c54e886970>"
      ]
     },
     "execution_count": 19,
     "metadata": {},
     "output_type": "execute_result"
    }
   ],
   "source": [
    "model.compile(loss='binary_crossentropy',optimizer=RMSprop(),metrics=['accuracy'])\n",
    "model.fit(X_train,y_train,batch_size=8,epochs=50,verbose=1)"
   ]
  },
  {
   "cell_type": "code",
   "execution_count": 20,
   "metadata": {},
   "outputs": [
    {
     "name": "stdout",
     "output_type": "stream",
     "text": [
      "3/3 [==============================] - 0s 1ms/step - loss: 0.3406 - accuracy: 0.8588\n",
      "Test loss: 0.3406129777431488\n",
      "Test accuracy: 0.8588235378265381\n"
     ]
    }
   ],
   "source": [
    "test_eval = model.evaluate(X_test, y_test, verbose=1)\n",
    "\n",
    "print('Test loss:', test_eval[0])\n",
    "print('Test accuracy:', test_eval[1])\n",
    "\n",
    "r_neural_net = test_eval[1]"
   ]
  },
  {
   "cell_type": "markdown",
   "metadata": {},
   "source": [
    "### Random Forest"
   ]
  },
  {
   "cell_type": "code",
   "execution_count": 21,
   "metadata": {},
   "outputs": [
    {
     "data": {
      "text/plain": [
       "RandomForestClassifier(max_depth=2, random_state=0)"
      ]
     },
     "execution_count": 21,
     "metadata": {},
     "output_type": "execute_result"
    }
   ],
   "source": [
    "from sklearn.ensemble import RandomForestClassifier\n",
    "from sklearn.datasets import make_classification\n",
    "clf = RandomForestClassifier(n_estimators=100, max_depth=2,random_state=0)\n",
    "clf.fit(X_train, y_train)"
   ]
  },
  {
   "cell_type": "code",
   "execution_count": 22,
   "metadata": {},
   "outputs": [
    {
     "name": "stdout",
     "output_type": "stream",
     "text": [
      "0.9058823529411765\n"
     ]
    }
   ],
   "source": [
    "r_random_forest = clf.score(X_test,y_test)\n",
    "print(r_random_forest)"
   ]
  },
  {
   "cell_type": "markdown",
   "metadata": {},
   "source": [
    "### Resultados"
   ]
  },
  {
   "cell_type": "code",
   "execution_count": 23,
   "metadata": {},
   "outputs": [
    {
     "name": "stdout",
     "output_type": "stream",
     "text": [
      "r_perceptron: \t 0.8941176470588236\n",
      "r_logisticRegre: \t 0.8823529411764706\n",
      "r_neural_net: \t 0.8588235378265381\n",
      "r_random_forest: \t 0.9058823529411765\n"
     ]
    }
   ],
   "source": [
    "print('r_perceptron: \\t'   , r_perceptron)\n",
    "print('r_logisticRegre: \\t',r_logisticRegre)\n",
    "print('r_neural_net: \\t'   ,r_neural_net)\n",
    "print('r_random_forest: \\t', r_random_forest)"
   ]
  },
  {
   "cell_type": "code",
   "execution_count": 24,
   "metadata": {},
   "outputs": [
    {
     "name": "stdout",
     "output_type": "stream",
     "text": [
      "r_perceptron:     0.8941\n",
      "r_logisticRegre:  0.8824\n",
      "r_neural_net:     0.8588\n",
      "r_random_forest:  0.9059\n"
     ]
    }
   ],
   "source": [
    "print('r_perceptron:    '   , round(r_perceptron,4))\n",
    "print('r_logisticRegre: '   , round(r_logisticRegre,4))\n",
    "print('r_neural_net:    '   , round(r_neural_net,4))\n",
    "print('r_random_forest: '   , round(r_random_forest,4))"
   ]
  },
  {
   "cell_type": "code",
   "execution_count": null,
   "metadata": {},
   "outputs": [],
   "source": []
  }
 ],
 "metadata": {
  "kernelspec": {
   "display_name": "Python 3",
   "language": "python",
   "name": "python3"
  },
  "language_info": {
   "codemirror_mode": {
    "name": "ipython",
    "version": 3
   },
   "file_extension": ".py",
   "mimetype": "text/x-python",
   "name": "python",
   "nbconvert_exporter": "python",
   "pygments_lexer": "ipython3",
   "version": "3.8.5"
  }
 },
 "nbformat": 4,
 "nbformat_minor": 4
}
